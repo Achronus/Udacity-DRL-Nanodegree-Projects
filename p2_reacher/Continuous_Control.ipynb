{
 "cells": [
  {
   "cell_type": "markdown",
   "metadata": {},
   "source": [
    "# Sticking to the Target\n",
    "\n",
    "### 1. Import Libraries"
   ]
  },
  {
   "cell_type": "code",
   "execution_count": 2,
   "metadata": {},
   "outputs": [],
   "source": [
    "from unityagents import UnityEnvironment\n",
    "import numpy as np\n",
    "\n",
    "import random\n",
    "import torch\n",
    "import time\n",
    "from collections import deque\n",
    "import matplotlib.pyplot as plt\n",
    "from workspace_utils import active_session\n",
    "%matplotlib inline\n",
    "\n",
    "# Custom RL Agent\n",
    "from agent import Agent"
   ]
  },
  {
   "cell_type": "markdown",
   "metadata": {},
   "source": [
    "### 2. Create the Unity Environment\n",
    "\n",
    "Using the Reacher environment, a unity agents 'brain' is created, which is responsible for deciding the agents actions. "
   ]
  },
  {
   "cell_type": "code",
   "execution_count": 3,
   "metadata": {},
   "outputs": [
    {
     "name": "stderr",
     "output_type": "stream",
     "text": [
      "INFO:unityagents:\n",
      "'Academy' started successfully!\n",
      "Unity Academy name: Academy\n",
      "        Number of Brains: 1\n",
      "        Number of External Brains : 1\n",
      "        Lesson number : 0\n",
      "        Reset Parameters :\n",
      "\t\tgoal_speed -> 1.0\n",
      "\t\tgoal_size -> 5.0\n",
      "Unity brain name: ReacherBrain\n",
      "        Number of Visual Observations (per agent): 0\n",
      "        Vector Observation space type: continuous\n",
      "        Vector Observation space size (per agent): 33\n",
      "        Number of stacked Vector Observation: 1\n",
      "        Vector Action space type: continuous\n",
      "        Vector Action space size (per agent): 4\n",
      "        Vector Action descriptions: , , , \n"
     ]
    }
   ],
   "source": [
    "# Set environment and display information\n",
    "env = UnityEnvironment(file_name='Reacher.app')\n",
    "\n",
    "# Set the default ReacherBrain\n",
    "brain_name = env.brain_names[0]\n",
    "brain = env.brains[brain_name]"
   ]
  },
  {
   "cell_type": "markdown",
   "metadata": {},
   "source": [
    "### 3. Train the Agent\n",
    "\n",
    "#### Training Implementation\n",
    "An `ddpg_training` function is used for implementating the training for each agent and stores the best weights of the model once an average score of 30 or more has been achieved across all 20 agents.\n",
    "\n",
    "This algorithm consists of a Deep Deterministic Policy Gradient (DDPG) with the Ornstein-Uhlenbeck process, to create noise within the network and Experience Replay.\n",
    "\n",
    "#### DDPG Architecture\n",
    "- An _actor_ consisting of a fully-connected network (4 layers):\n",
    "    - An input layer with 33 inputs, representing the state size\n",
    "    - 2 hidden layers, both with 128 hidden nodes that are passed through relu activation functions\n",
    "    - An output layer with 4 outputs, for the number of actions, passed through a tanh activation function\n",
    "\n",
    "\n",
    "- A _critic_ consisting of a fully-connected network (4 layers):\n",
    "    - An input layer with 33 inputs, representing the state size\n",
    "    - 2 hidden layers, one with 132 hidden nodes (128 + actions) and the other with 128 hidden nodes that are passed through relu activation functions\n",
    "    - An output layer with 1 output, specifying the Q-value\n",
    "\n",
    "#### Hyperparameters Used\n",
    "- `BUFFER_SIZE = int(1e5)`: replay buffer size\n",
    "- `BATCH_SIZE = 256`: minibatch size\n",
    "- `GAMMA = 0.99`: discount factor\n",
    "- `TAU = 1e-3`: used for soft update of target parameters\n",
    "- `LR_ACTOR = 1e-3`: learning rate of the actor\n",
    "- `LR_CRITIC = 1e-3`: learning rate of the critic\n",
    "- `EPS_START = 1`: epsilon start value\n",
    "- `EPS_END = 0.05`: epsilon ending value\n",
    "- `EPS_DECAY = 1e-6`: epsilon decay rate\n",
    "- `UPDATE_EVERY = 20`: num timesteps before each update\n",
    "- `NUM_UPDATE = 10`: num of updates after set num of timesteps"
   ]
  },
  {
   "cell_type": "code",
   "execution_count": 4,
   "metadata": {},
   "outputs": [],
   "source": [
    "def ddpg_training(brain_name, n_agents, n_episodes=1000, \n",
    "                  max_t=1000, print_every=100):\n",
    "    \"\"\"\n",
    "    Perform DDPG training on each agent.\n",
    "    \n",
    "    Parameters:\n",
    "      - brain_name (string): name of agent brain to use\n",
    "      - n_agents (int): number of agents\n",
    "      - n_episodes (int): maximum number of training episodes\n",
    "      - max_t (int): maximum number of timesteps per episode\n",
    "      - print_every (int): number of scores to average\n",
    "    \"\"\"\n",
    "    scores_list = []  # list containing scores from each episode\n",
    "    scores_window = deque(maxlen=print_every) # last set of scores\n",
    "    \n",
    "    # Iterate over each episode\n",
    "    for i_episode in range(1, n_episodes+1):\n",
    "        # Reset environment and agents, set initial states\n",
    "        # and reward scores every episode\n",
    "        env_info = env.reset(train_mode=True)[brain_name]\n",
    "        agent.reset()\n",
    "        states = env_info.vector_observations\n",
    "        scores = np.zeros(n_agents)\n",
    "        \n",
    "        # Iterate over each timestep\n",
    "        for t in range(max_t):\n",
    "            # Perform an action for each agent in the environment\n",
    "            actions = agent.act(states)\n",
    "            env_info = env.step(actions)[brain_name]\n",
    "            \n",
    "            # Set new experiences and interact with the environment\n",
    "            next_states = env_info.vector_observations\n",
    "            rewards = env_info.rewards\n",
    "            dones = env_info.local_done\n",
    "            agent.step(states, actions, rewards, next_states, dones, t)\n",
    "            \n",
    "            # Update states and scores\n",
    "            states = next_states\n",
    "            scores += rewards\n",
    "            \n",
    "            # Break loop if an agent finishes the episode\n",
    "            if any(dones):\n",
    "                break \n",
    "        \n",
    "        # Save most recent scores\n",
    "        scores_window.append(np.mean(scores))\n",
    "        scores_list.append(np.mean(scores))\n",
    "        \n",
    "        # Output episode information\n",
    "        print(f'\\rEpisode {i_episode}\\tAverage Score: {np.mean(scores_window):.2f}', end=\"\")\n",
    "        if i_episode % print_every == 0:\n",
    "            print(f'\\rEpisode {i_episode}\\tAverage Score: {np.mean(scores_window):.2f}')\n",
    "        \n",
    "        # Save environment if goal achieved\n",
    "        if np.mean(scores_window) >= 30.0:\n",
    "            print(f'\\nEnvironment solved in {i_episode} episodes!\\tAverage Score: {np.mean(scores_window):.2f}')\n",
    "            torch.save(agent.actor_local.state_dict(), 'actor_checkpoint.pth')\n",
    "            torch.save(agent.critic_local.state_dict(), 'critic_checkpoint.pth')\n",
    "            break\n",
    "            \n",
    "    # Return reward scores\n",
    "    return scores_list"
   ]
  },
  {
   "cell_type": "code",
   "execution_count": 5,
   "metadata": {},
   "outputs": [
    {
     "name": "stdout",
     "output_type": "stream",
     "text": [
      "Number of agents: 20\n",
      "Actor(\n",
      "  (fc1): Linear(in_features=33, out_features=128, bias=True)\n",
      "  (fc2): Linear(in_features=128, out_features=128, bias=True)\n",
      "  (out): Linear(in_features=128, out_features=4, bias=True)\n",
      "  (bn0): BatchNorm1d(33, eps=1e-05, momentum=0.1, affine=True, track_running_stats=True)\n",
      "  (bn1): BatchNorm1d(128, eps=1e-05, momentum=0.1, affine=True, track_running_stats=True)\n",
      "  (bn2): BatchNorm1d(128, eps=1e-05, momentum=0.1, affine=True, track_running_stats=True)\n",
      ")\n",
      "Critic(\n",
      "  (fc1): Linear(in_features=33, out_features=128, bias=True)\n",
      "  (fc2): Linear(in_features=132, out_features=128, bias=True)\n",
      "  (out): Linear(in_features=128, out_features=1, bias=True)\n",
      "  (bn0): BatchNorm1d(33, eps=1e-05, momentum=0.1, affine=True, track_running_stats=True)\n",
      ")\n",
      "\n"
     ]
    }
   ],
   "source": [
    "# Initialize the environment\n",
    "env_info = env.reset(train_mode=True)[brain_name]\n",
    "\n",
    "# Set number of actions\n",
    "action_size = brain.vector_action_space_size # 4\n",
    "\n",
    "# Set states for each agent\n",
    "states = env_info.vector_observations\n",
    "state_size = states.shape[1] # 33\n",
    "\n",
    "# Set number of agents\n",
    "num_agents = len(env_info.agents) # 20\n",
    "print(f'Number of agents: {num_agents}')\n",
    "\n",
    "# Create and view the agent networks\n",
    "agent = Agent(state_size, action_size, seed=0, n_agents=num_agents)\n",
    "print(agent.actor_local)\n",
    "print(agent.critic_local)\n",
    "print()"
   ]
  },
  {
   "cell_type": "code",
   "execution_count": 6,
   "metadata": {},
   "outputs": [
    {
     "name": "stdout",
     "output_type": "stream",
     "text": [
      "Episode 100\tAverage Score: 23.51\n",
      "Episode 118\tAverage Score: 30.12\n",
      "Environment solved in 118 episodes!\tAverage Score: 30.12\n",
      "\n",
      "Total Training Time: 26.85 mins\n"
     ]
    }
   ],
   "source": [
    "with active_session():\n",
    "    # Start training time\n",
    "    start_time = time.time()\n",
    "\n",
    "    # Train all 20 agents\n",
    "    train_scores = ddpg_training(brain_name, num_agents)\n",
    "\n",
    "    # Calculate time taken to train\n",
    "    train_time = (time.time() - start_time) / 60\n",
    "    print(f\"\\nTotal Training Time: {train_time:.2f} mins\")"
   ]
  },
  {
   "cell_type": "markdown",
   "metadata": {},
   "source": [
    "### 4. Analyse the Training Results\n",
    "\n",
    "Reviewing the graph we can see the score slowly increase over each episode, where the highest average score across all 20 agents is ~39.0 and the environment was solved in 118 episodes across all agents. "
   ]
  },
  {
   "cell_type": "code",
   "execution_count": 7,
   "metadata": {},
   "outputs": [
    {
     "data": {
      "image/png": "[encoded data removed]",
      "text/plain": [
       "<matplotlib.figure.Figure at 0x7f00eadec4a8>"
      ]
     },
     "metadata": {
      "needs_background": "light"
     },
     "output_type": "display_data"
    }
   ],
   "source": [
    "# plot the scores\n",
    "fig = plt.figure()\n",
    "ax = fig.add_subplot(111)\n",
    "plt.plot(np.arange(len(train_scores)), train_scores)\n",
    "plt.title('Reward Per Episode')\n",
    "plt.ylabel('Score')\n",
    "plt.xlabel('Episode #')\n",
    "plt.grid(True)\n",
    "plt.show()"
   ]
  },
  {
   "cell_type": "markdown",
   "metadata": {},
   "source": [
    "### 5. Test the Trained Agents\n",
    "Now that the agents have been trained, the environment can be reset and set into test mode using the `train_mode=False` flag. Using the the best weights for the agents we can run the Unity environment to test the agents."
   ]
  },
  {
   "cell_type": "code",
   "execution_count": null,
   "metadata": {},
   "outputs": [],
   "source": [
    "# Initialize environment\n",
    "env_info = env.reset(train_mode=False)[brain_name]\n",
    "\n",
    "# Set number of actions and agents\n",
    "action_size = brain.vector_action_space_size # 4\n",
    "num_agents = len(env_info.agents) # 20\n",
    "\n",
    "# Set states for each agent\n",
    "states = env_info.vector_observations\n",
    "state_size = states.shape[1] # 33\n",
    "\n",
    "# Create the agent\n",
    "agent = Agent(state_size, action_size, seed=0, n_agents=num_agents)\n",
    "test_scores = np.zeros(num_agents)\n",
    "\n",
    "# Set best device available\n",
    "if torch.cuda.is_available():\n",
    "    map_location=lambda storage, loc: storage.cuda()\n",
    "else:\n",
    "    map_location='cpu'\n",
    "\n",
    "# Load best agent weights\n",
    "agent.actor_local.load_state_dict(torch.load('actor_checkpoint.pth', map_location=map_location))\n",
    "agent.critic_local.load_state_dict(torch.load('critic_checkpoint.pth', map_location=map_location))"
   ]
  },
  {
   "cell_type": "code",
   "execution_count": null,
   "metadata": {},
   "outputs": [],
   "source": [
    "env_info = env.reset(train_mode=False)[brain_name]     # reset the environment    \n",
    "states = env_info.vector_observations                  # get the current state (for each agent)\n",
    "scores = np.zeros(num_agents)                          # initialize the score (for each agent)\n",
    "while True:\n",
    "    actions = agent.act(states)                        # select an action (for each agent)\n",
    "    actions = np.clip(actions, -1, 1)                  # all actions between -1 and 1\n",
    "    env_info = env.step(actions)[brain_name]           # send all actions to tne environment\n",
    "    next_states = env_info.vector_observations         # get next state (for each agent)\n",
    "    rewards = env_info.rewards                         # get reward (for each agent)\n",
    "    dones = env_info.local_done                        # see if episode finished\n",
    "    scores += env_info.rewards                         # update the score (for each agent)\n",
    "    states = next_states                               # roll over states to next time step\n",
    "    if np.any(dones):                                  # exit loop if episode finished\n",
    "        break\n",
    "print('Total score (averaged over agents) this episode: {}'.format(np.mean(scores)))"
   ]
  },
  {
   "cell_type": "markdown",
   "metadata": {},
   "source": [
    "### 6. Close the Environment\n",
    "When finished, we close the environment."
   ]
  },
  {
   "cell_type": "code",
   "execution_count": 9,
   "metadata": {},
   "outputs": [],
   "source": [
    "env.close()"
   ]
  }
 ],
 "metadata": {
  "kernelspec": {
   "display_name": "Python 3",
   "language": "python",
   "name": "python3"
  },
  "language_info": {
   "codemirror_mode": {
    "name": "ipython",
    "version": 3
   },
   "file_extension": ".py",
   "mimetype": "text/x-python",
   "name": "python",
   "nbconvert_exporter": "python",
   "pygments_lexer": "ipython3",
   "version": "3.6.12"
  }
 },
 "nbformat": 4,
 "nbformat_minor": 2
}
