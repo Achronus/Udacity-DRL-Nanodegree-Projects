{
 "cells": [
  {
   "cell_type": "markdown",
   "metadata": {},
   "source": [
    "# Sticking to the Target\n",
    "\n",
    "### 1. Import Libraries"
   ]
  },
  {
   "cell_type": "code",
   "execution_count": 1,
   "metadata": {},
   "outputs": [],
   "source": [
    "from unityagents import UnityEnvironment\n",
    "import numpy as np\n",
    "\n",
    "import random\n",
    "import torch\n",
    "import time\n",
    "from collections import deque\n",
    "import matplotlib.pyplot as plt\n",
    "%matplotlib inline\n",
    "\n",
    "from maddpg import MADDPG"
   ]
  },
  {
   "cell_type": "markdown",
   "metadata": {},
   "source": [
    "### 2. Create the Unity Environment\n",
    "\n",
    "Using the Tennis environment, a unity agents 'brain' is created, which is responsible for deciding the agents actions. "
   ]
  },
  {
   "cell_type": "code",
   "execution_count": 2,
   "metadata": {},
   "outputs": [
    {
     "name": "stderr",
     "output_type": "stream",
     "text": [
      "INFO:unityagents:\n",
      "'Academy' started successfully!\n",
      "Unity Academy name: Academy\n",
      "        Number of Brains: 1\n",
      "        Number of External Brains : 1\n",
      "        Lesson number : 0\n",
      "        Reset Parameters :\n",
      "\t\t\n",
      "Unity brain name: TennisBrain\n",
      "        Number of Visual Observations (per agent): 0\n",
      "        Vector Observation space type: continuous\n",
      "        Vector Observation space size (per agent): 8\n",
      "        Number of stacked Vector Observation: 3\n",
      "        Vector Action space type: continuous\n",
      "        Vector Action space size (per agent): 2\n",
      "        Vector Action descriptions: , \n"
     ]
    }
   ],
   "source": [
    "# Set environment and display information\n",
    "env = UnityEnvironment(file_name='Tennis.app')\n",
    "\n",
    "# Set the default brain\n",
    "brain_name = env.brain_names[0]\n",
    "brain = env.brains[brain_name]"
   ]
  },
  {
   "cell_type": "markdown",
   "metadata": {},
   "source": [
    "### 3. Train the Agent\n",
    "\n",
    "#### Training Implementation\n",
    "An `maddpg_training` function is used for implementating the training for both agents and stores the best weights of the model once an average score, over 100 episodes, of 0.5 or more has been achieved across the 2 agents.\n",
    "\n",
    "This algorithm consists of a Multi-Agent Deep Deterministic Policy Gradient (MADDPG) with the Ornstein-Uhlenbeck process, to create noise within the network and uses an Experience Replay to store a combined collection of the agents experiences.\n",
    "\n",
    "#### DDPG Architecture\n",
    "- An _actor_ consisting of a fully-connected network (4 layers):\n",
    "    - An input layer with 24 inputs, representing the state size\n",
    "    - 2 hidden layers, one with 256 hidden nodes and another with 128 hidden nodes that are passed through relu activation functions\n",
    "    - An output layer with 2 outputs, for the number of actions, passed through a tanh activation function\n",
    "\n",
    "\n",
    "- A _critic_ consisting of a fully-connected network (4 layers):\n",
    "    - An input layer with 24 inputs, representing the state size\n",
    "    - 2 hidden layers, one with 260 hidden nodes (256 + actions) and the other with 128 hidden nodes that are passed through relu activation functions\n",
    "    - An output layer with 1 output, specifying the Q-value\n",
    "\n",
    "#### Hyperparameters Used\n",
    "- `BUFFER_SIZE = int(1e6)`: replay buffer size\n",
    "- `BATCH_SIZE = 128`: minibatch size\n",
    "- `GAMMA = 0.99`: discount factor\n",
    "- `TAU = 1e-3`: used for soft update of target parameters\n",
    "- `UPDATE_EVERY = 2`: num timesteps before each update\n",
    "- `NUM_UPDATE = 10`: num of updates after set num of timesteps\n",
    "- `NOISE_DECAY = 0.995`: reduce exploration slowly overtime\n",
    "- `LR_ACTOR = 1e-3`: learning rate of the actor\n",
    "- `LR_CRITIC = 1e-3`: learning rate of the critic"
   ]
  },
  {
   "cell_type": "code",
   "execution_count": 3,
   "metadata": {},
   "outputs": [],
   "source": [
    "def maddpg_training(brain_name, n_agents, n_episodes=2000, \n",
    "                  max_t=1000, print_every=100):\n",
    "    \"\"\"\n",
    "    Perform MADDPG training on both agents.\n",
    "    \n",
    "    Parameters:\n",
    "      - brain_name (string): name of agent brain to use\n",
    "      - n_agents (list): number of agents\n",
    "      - n_episodes (int): maximum number of training episodes\n",
    "      - max_t (int): maximum number of timesteps per episode\n",
    "      - print_every (int): number of scores to average\n",
    "    \"\"\"\n",
    "    scores_list = []  # list containing scores from each episode\n",
    "    scores_window = deque(maxlen=print_every) # last set of scores\n",
    "    scores_avg = []\n",
    "    \n",
    "    # Iterate over each episode\n",
    "    for i_episode in range(1, n_episodes+1):\n",
    "        # Reset environment and agents, set initial states\n",
    "        # and reward scores every episode\n",
    "        env_info = env.reset(train_mode=True)[brain_name]\n",
    "        states = env_info.vector_observations\n",
    "        scores = np.zeros(n_agents)\n",
    "        maddpg.reset_agents()\n",
    "        \n",
    "        # Iterate over each timestep\n",
    "        for t in range(max_t):\n",
    "            # Perform an action for each agent\n",
    "            actions = maddpg.act(states)\n",
    "            \n",
    "            # Step through the environment using the actions\n",
    "            env_info = env.step(actions)[brain_name]\n",
    "            \n",
    "            # Set new experiences and interact with the environment\n",
    "            next_states = env_info.vector_observations\n",
    "            rewards = env_info.rewards\n",
    "            dones = env_info.local_done\n",
    "            maddpg.step(states, actions, rewards, next_states, dones, t)\n",
    "            \n",
    "            # Update states and scores\n",
    "            states = next_states\n",
    "            scores += rewards\n",
    "            \n",
    "            # Break loop if an agent finishes the episode\n",
    "            if any(dones):\n",
    "                break \n",
    "        \n",
    "        # Save most recent scores\n",
    "        scores_window.append(np.max(scores))\n",
    "        scores_list.append(np.max(scores))\n",
    "        scores_avg.append(np.mean(scores_window))\n",
    "        \n",
    "        # Output episode information\n",
    "        print(f'\\rEpisode {i_episode}\\tAverage Score: {np.mean(scores_window):.2f}', end=\"\")\n",
    "        if i_episode % print_every == 0:\n",
    "            print(f'\\rEpisode {i_episode}\\tAverage Score: {np.mean(scores_window):.2f}')\n",
    "        \n",
    "        # Save environment if goal achieved\n",
    "        if np.mean(scores_window) >= 0.5:\n",
    "            print(f'\\nEnvironment solved in {i_episode} episodes!\\tAverage Score: {np.mean(scores_window):.2f}')\n",
    "            maddpg.save_model()\n",
    "            break\n",
    "            \n",
    "    # Return reward scores\n",
    "    return scores_list, scores_avg"
   ]
  },
  {
   "cell_type": "code",
   "execution_count": 4,
   "metadata": {},
   "outputs": [],
   "source": [
    "# Initialize the environment\n",
    "env_info = env.reset(train_mode=True)[brain_name]\n",
    "\n",
    "# Set number of actions\n",
    "action_size = brain.vector_action_space_size # 2\n",
    "\n",
    "# Set states for each agent\n",
    "states = env_info.vector_observations\n",
    "state_size = states.shape[1] # 24\n",
    "\n",
    "# Create agents\n",
    "maddpg = MADDPG(state_size, action_size, seed=1, n_agents=2)"
   ]
  },
  {
   "cell_type": "code",
   "execution_count": 5,
   "metadata": {
    "scrolled": false
   },
   "outputs": [
    {
     "name": "stdout",
     "output_type": "stream",
     "text": [
      "Episode 100\tAverage Score: 0.01\n",
      "Episode 200\tAverage Score: 0.07\n",
      "Episode 300\tAverage Score: 0.12\n",
      "Episode 400\tAverage Score: 0.14\n",
      "Episode 442\tAverage Score: 0.51\n",
      "Environment solved in 442 episodes!\tAverage Score: 0.51\n",
      "\n",
      "Total Training Time: 64.67 mins\n"
     ]
    }
   ],
   "source": [
    "# Start training time\n",
    "start_time = time.time()\n",
    "\n",
    "# Train both agents\n",
    "train_scores, avg_train_scores = maddpg_training(brain_name, n_agents=2)\n",
    "\n",
    "# Calculate time taken to train\n",
    "train_time = (time.time() - start_time) / 60\n",
    "print(f\"\\nTotal Training Time: {train_time:.2f} mins\")"
   ]
  },
  {
   "cell_type": "markdown",
   "metadata": {},
   "source": [
    "### 4. Analyse the Training Results\n",
    "\n",
    "Reviewing the graph we can see the score slowly increase over each episode, where the highest average score across both agents is 0.51 and the environment was solved in 442 episodes, across 100 consecutive episodes with the average of both agents scores. "
   ]
  },
  {
   "cell_type": "code",
   "execution_count": 6,
   "metadata": {},
   "outputs": [
    {
     "data": {
      "image/png": "[encoded data removed]",
      "text/plain": [
       "<Figure size 432x288 with 1 Axes>"
      ]
     },
     "metadata": {
      "needs_background": "light"
     },
     "output_type": "display_data"
    }
   ],
   "source": [
    "# plot the scores\n",
    "fig = plt.figure()\n",
    "ax = fig.add_subplot(111)\n",
    "plt.plot(np.arange(len(train_scores)), train_scores)\n",
    "plt.plot(np.arange(len(train_scores)), avg_train_scores)\n",
    "plt.title('Reward Per Episode')\n",
    "plt.ylabel('Score')\n",
    "plt.xlabel('Episode #')\n",
    "plt.grid(True)\n",
    "plt.show()"
   ]
  },
  {
   "cell_type": "markdown",
   "metadata": {},
   "source": [
    "### 5. Test the Trained Agents\n",
    "Now that the agents have been trained, the environment can be reset and set into test mode using the `train_mode=False` flag. Using the the best weights for the agents we can run the Unity environment to test the agents."
   ]
  },
  {
   "cell_type": "code",
   "execution_count": 11,
   "metadata": {},
   "outputs": [],
   "source": [
    "# Initialize environment\n",
    "env_info = env.reset(train_mode=False)[brain_name]\n",
    "\n",
    "# Set number of actions and agents\n",
    "action_size = brain.vector_action_space_size # 2\n",
    "num_agents = len(env_info.agents) # 2\n",
    "\n",
    "# Set states for each agent\n",
    "states = env_info.vector_observations\n",
    "state_size = states.shape[1] # 24\n",
    "\n",
    "# Create the agent\n",
    "test_maddpg = MADDPG(state_size, action_size, seed=1, n_agents=num_agents)\n",
    "test_scores = np.zeros(num_agents)\n",
    "\n",
    "# Set best device available\n",
    "if torch.cuda.is_available():\n",
    "    map_location=lambda storage, loc: storage.cuda()\n",
    "else:\n",
    "    map_location='cpu'\n",
    "\n",
    "# Load best agent weights\n",
    "test_maddpg.load_model(map_location)"
   ]
  },
  {
   "cell_type": "code",
   "execution_count": 12,
   "metadata": {},
   "outputs": [
    {
     "name": "stdout",
     "output_type": "stream",
     "text": [
      "Total score (max over agents) this episode: 0.5000000074505806\n"
     ]
    }
   ],
   "source": [
    "env_info = env.reset(train_mode=False)[brain_name]     # reset the environment    \n",
    "states = env_info.vector_observations                  # get the current state (for each agent)\n",
    "scores = np.zeros(num_agents)                          # initialize the score (for each agent)\n",
    "while True:\n",
    "    actions = maddpg.act(states)                        # select an action (for each agent)\n",
    "    env_info = env.step(actions)[brain_name]           # send all actions to tne environment\n",
    "    next_states = env_info.vector_observations         # get next state (for each agent)\n",
    "    rewards = env_info.rewards                         # get reward (for each agent)\n",
    "    dones = env_info.local_done                        # see if episode finished\n",
    "    scores += env_info.rewards                         # update the score (for each agent)\n",
    "    states = next_states                               # roll over states to next time step\n",
    "    if np.any(dones):                                  # exit loop if episode finished\n",
    "        break\n",
    "print('Total score (max over agents) this episode: {}'.format(np.max(scores)))"
   ]
  },
  {
   "cell_type": "markdown",
   "metadata": {},
   "source": [
    "### 6. Close the Environment\n",
    "When finished, we close the environment."
   ]
  },
  {
   "cell_type": "code",
   "execution_count": 13,
   "metadata": {},
   "outputs": [],
   "source": [
    "env.close()"
   ]
  }
 ],
 "metadata": {
  "kernelspec": {
   "display_name": "drlnd",
   "language": "python",
   "name": "drlnd"
  },
  "language_info": {
   "codemirror_mode": {
    "name": "ipython",
    "version": 3
   },
   "file_extension": ".py",
   "mimetype": "text/x-python",
   "name": "python",
   "nbconvert_exporter": "python",
   "pygments_lexer": "ipython3",
   "version": "3.6.12"
  }
 },
 "nbformat": 4,
 "nbformat_minor": 2
}
