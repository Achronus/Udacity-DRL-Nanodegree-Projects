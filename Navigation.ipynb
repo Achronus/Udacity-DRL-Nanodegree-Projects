{
 "cells": [
  {
   "cell_type": "markdown",
   "metadata": {},
   "source": [
    "# Navigating a Banana World\n",
    "\n",
    "\n",
    "### 1. Imports"
   ]
  },
  {
   "cell_type": "markdown",
   "metadata": {},
   "source": [
    "Import the necessary packages."
   ]
  },
  {
   "cell_type": "code",
   "execution_count": 1,
   "metadata": {},
   "outputs": [],
   "source": [
    "from unityagents import UnityEnvironment\n",
    "import numpy as np\n",
    "\n",
    "import random\n",
    "import torch\n",
    "import time\n",
    "from collections import deque\n",
    "import matplotlib.pyplot as plt\n",
    "%matplotlib inline\n",
    "\n",
    "# Custom RL Agent\n",
    "from dqn_agent import Agent"
   ]
  },
  {
   "cell_type": "markdown",
   "metadata": {},
   "source": [
    "### 2. Create the Unity Environment"
   ]
  },
  {
   "cell_type": "markdown",
   "metadata": {},
   "source": [
    "Using the Banana environment, a unity agents 'brain' is created, which is responsible for deciding the agents actions. "
   ]
  },
  {
   "cell_type": "code",
   "execution_count": 2,
   "metadata": {},
   "outputs": [
    {
     "name": "stderr",
     "output_type": "stream",
     "text": [
      "INFO:unityagents:\n",
      "'Academy' started successfully!\n",
      "Unity Academy name: Academy\n",
      "        Number of Brains: 1\n",
      "        Number of External Brains : 1\n",
      "        Lesson number : 0\n",
      "        Reset Parameters :\n",
      "\t\t\n",
      "Unity brain name: BananaBrain\n",
      "        Number of Visual Observations (per agent): 0\n",
      "        Vector Observation space type: continuous\n",
      "        Vector Observation space size (per agent): 37\n",
      "        Number of stacked Vector Observation: 1\n",
      "        Vector Action space type: discrete\n",
      "        Vector Action space size (per agent): 4\n",
      "        Vector Action descriptions: , , , \n"
     ]
    }
   ],
   "source": [
    "# Set environment and display information\n",
    "env = UnityEnvironment(file_name=\"Banana.app\")\n",
    "\n",
    "# Set the default BananaBrain\n",
    "brain_name = env.brain_names[0]\n",
    "brain = env.brains[brain_name]"
   ]
  },
  {
   "cell_type": "markdown",
   "metadata": {},
   "source": [
    "### 3. Train the Agent\n",
    "\n",
    "#### Training Implementation\n",
    "A `dqn_training` function is used for implementating the training of the agent and stores the best weights of the model once a score of 13 or more has been achieved.\n",
    "\n",
    "This algorithm consists of a Q-Learning approach with a standard experience relay and fixed Q-targets.\n",
    "\n",
    "#### Deep Q-Network Architecture\n",
    "- An input layer with 37 inputs, representing the state size\n",
    "- 2 hidden layers, both with 64 hidden nodes that are passed through relu activation functions\n",
    "- An output layer with 4 outputs, for the number of actions\n",
    "\n",
    "#### Hyperparameters Used\n",
    "- `BUFFER_SIZE = int(1e5)`: replay buffer size\n",
    "- `BATCH_SIZE = 64`: minibatch size\n",
    "- `GAMMA = 0.99`: discount factor\n",
    "- `TAU = 1e-3`: used for soft update of target parameters\n",
    "- `LR = 5e-4`: learning rate \n",
    "- `UPDATE_EVERY = 4`: how often to update the network"
   ]
  },
  {
   "cell_type": "code",
   "execution_count": 3,
   "metadata": {},
   "outputs": [],
   "source": [
    "def dqn_training(brain_name, n_episodes=2000, max_t=1000, eps_start=1.0, \n",
    "                 eps_end=0.01, eps_decay=0.995):\n",
    "    \"\"\"\n",
    "    Perform Deep Q-Learning training on the agent.\n",
    "    \n",
    "    Params\n",
    "    ======\n",
    "    brain_name (string): name of agent brain to use\n",
    "    n_episodes (int): maximum number of training episodes\n",
    "    max_t (int): maximum number of timesteps per episode\n",
    "    eps_start (float): starting value of epsilon, for epsilon-greedy action selection\n",
    "    eps_end (float): minimum value of epsilon\n",
    "    eps_decay (float): multiplicative factor (per episode) for decreasing epsilon \n",
    "    \"\"\"\n",
    "    scores = []                        # list containing scores from each episode\n",
    "    scores_window = deque(maxlen=100)  # last 100 scores\n",
    "    eps = eps_start                    # initialize epsilon\n",
    "    \n",
    "    # Iterate over each episode\n",
    "    for i_episode in range(1, n_episodes+1):\n",
    "        # Reset environment, set initial state and reward score every episode\n",
    "        env_info = env.reset(train_mode=True)[brain_name]\n",
    "        state = env_info.vector_observations[0]\n",
    "        score = 0\n",
    "        \n",
    "        # Iterate over each timestep\n",
    "        for t in range(max_t):\n",
    "            # Perform an action in the environment\n",
    "            action = agent.act(state, eps).astype(np.int32)\n",
    "            env_info = env.step(action)[brain_name]\n",
    "            \n",
    "            # Set new experience and interact with the environment\n",
    "            next_state = env_info.vector_observations[0]\n",
    "            reward = env_info.rewards[0]\n",
    "            done = env_info.local_done[0]\n",
    "            agent.step(state, action, reward, next_state, done)\n",
    "            \n",
    "            # Update step and score\n",
    "            state = next_state\n",
    "            score += reward\n",
    "            \n",
    "            # Break loop if episode completed\n",
    "            if done:\n",
    "                break \n",
    "        \n",
    "        # Save most recent score\n",
    "        scores_window.append(score)\n",
    "        scores.append(score)\n",
    "        \n",
    "        # Decrease epsilon\n",
    "        eps = max(eps_end, eps_decay * eps)\n",
    "        \n",
    "        # Output episode information\n",
    "        print(f'\\rEpisode {i_episode}\\tAverage Score: {np.mean(scores_window):.2f}', end=\"\")\n",
    "        if i_episode % 100 == 0:\n",
    "            print(f'\\rEpisode {i_episode}\\tAverage Score: {np.mean(scores_window):.2f}')\n",
    "        \n",
    "        # Save environment if goal achieved\n",
    "        if np.mean(scores_window) >= 13.0:\n",
    "            print(f'\\nEnvironment solved in {i_episode-100:d} episodes!\\tAverage Score: {np.mean(scores_window):.2f}')\n",
    "            torch.save(agent.qnetwork_local.state_dict(), 'checkpoint.pth')\n",
    "            break\n",
    "            \n",
    "    # Return reward scores\n",
    "    return scores"
   ]
  },
  {
   "cell_type": "code",
   "execution_count": 4,
   "metadata": {},
   "outputs": [
    {
     "name": "stdout",
     "output_type": "stream",
     "text": [
      "QNetwork(\n",
      "  (fc1): Linear(in_features=37, out_features=64, bias=True)\n",
      "  (fc2): Linear(in_features=64, out_features=64, bias=True)\n",
      "  (out): Linear(in_features=64, out_features=4, bias=True)\n",
      ")\n",
      "\n",
      "Episode 100\tAverage Score: 1.10\n",
      "Episode 200\tAverage Score: 4.49\n",
      "Episode 300\tAverage Score: 8.38\n",
      "Episode 400\tAverage Score: 10.59\n",
      "Episode 500\tAverage Score: 12.55\n",
      "Episode 521\tAverage Score: 13.03\n",
      "Environment solved in 421 episodes!\tAverage Score: 13.03\n",
      "\n",
      "Total Training Time: 10.99 mins\n"
     ]
    }
   ],
   "source": [
    "# Initialize the environment\n",
    "env_info = env.reset(train_mode=True)[brain_name]\n",
    "\n",
    "# Set number of actions\n",
    "action_size = brain.vector_action_space_size # 4\n",
    "\n",
    "# Set the state space and size\n",
    "state = env_info.vector_observations[0]\n",
    "state_size = len(state) # 37\n",
    "\n",
    "# Create the agent\n",
    "agent = Agent(state_size, action_size, seed=0)\n",
    "print(agent.qnetwork_local) # View network used\n",
    "print()\n",
    "\n",
    "# Train the agent and calculate time taken\n",
    "start_time = time.time()\n",
    "scores = dqn_training(brain_name, n_episodes=1000, max_t=1500)\n",
    "train_time = (time.time() - start_time) / 60\n",
    "print(f\"\\nTotal Training Time: {train_time:.2f} mins\")"
   ]
  },
  {
   "cell_type": "markdown",
   "metadata": {},
   "source": [
    "### 4. Analyse the Training Results"
   ]
  },
  {
   "cell_type": "markdown",
   "metadata": {},
   "source": [
    "Reviewing the graph we can see the score slowly increase over each episode, where the highest score is the 421st episode. Notice how this isn't a smooth learning process as it is only a basic implementation of a Deep Q-Network (DQN)."
   ]
  },
  {
   "cell_type": "code",
   "execution_count": 5,
   "metadata": {},
   "outputs": [
    {
     "data": {
      "image/png": "[encoded data removed]",
      "text/plain": [
       "<Figure size 432x288 with 1 Axes>"
      ]
     },
     "metadata": {
      "needs_background": "light"
     },
     "output_type": "display_data"
    }
   ],
   "source": [
    "# plot the scores\n",
    "fig = plt.figure()\n",
    "ax = fig.add_subplot(111)\n",
    "plt.plot(np.arange(len(scores)), scores)\n",
    "plt.title('Reward Per Episode')\n",
    "plt.ylabel('Score')\n",
    "plt.xlabel('Episode #')\n",
    "plt.grid(True)\n",
    "plt.show()"
   ]
  },
  {
   "cell_type": "markdown",
   "metadata": {},
   "source": [
    "### 5. Test the Trained Agent\n",
    "Now that the agent has been trained, the environment can be reset and set it to testing mode using the `train_mode=False` flag, load the best weights for the agent and run it in the Unity environment."
   ]
  },
  {
   "cell_type": "code",
   "execution_count": 6,
   "metadata": {},
   "outputs": [
    {
     "name": "stdout",
     "output_type": "stream",
     "text": [
      "Score: 6.00\n"
     ]
    }
   ],
   "source": [
    "# Initialize environment and score\n",
    "env_info = env.reset(train_mode=False)[brain_name]\n",
    "score = 0\n",
    "\n",
    "# Set the state space\n",
    "state = env_info.vector_observations[0]\n",
    "state_size = len(state)\n",
    "\n",
    "# Set number of actions\n",
    "action_size = brain.vector_action_space_size # 4\n",
    "\n",
    "# Create the agent and load its best weights\n",
    "agent = Agent(state_size, action_size, seed=0)\n",
    "agent.qnetwork_local.load_state_dict(torch.load('checkpoint.pth'))\n",
    "\n",
    "# Test the agents progress\n",
    "while True:\n",
    "    # Perform an action in the environment\n",
    "    action = agent.act(state).astype(np.int32)\n",
    "    env_info = env.step(action)[brain_name]\n",
    "\n",
    "    # Set new experience and interact with the environment\n",
    "    next_state = env_info.vector_observations[0]\n",
    "    reward = env_info.rewards[0]\n",
    "    done = env_info.local_done[0]\n",
    "    agent.step(state, action, reward, next_state, done)\n",
    "\n",
    "    # Update step and score\n",
    "    state = next_state\n",
    "    score += reward\n",
    "\n",
    "    # Exit loop when finished\n",
    "    if done:\n",
    "        break\n",
    "    \n",
    "# Return score for test run\n",
    "print(f\"Score: {score:.2f}\")"
   ]
  },
  {
   "cell_type": "markdown",
   "metadata": {},
   "source": [
    "### 6. Close the Environment\n",
    "When finished, we close the environment."
   ]
  },
  {
   "cell_type": "code",
   "execution_count": 7,
   "metadata": {},
   "outputs": [],
   "source": [
    "env.close()"
   ]
  },
  {
   "cell_type": "markdown",
   "metadata": {},
   "source": [
    "### 7. Test Results Analysis\n",
    "Using a basic DQN, the agent is able to solve the environment within ~400 episodes.\n",
    "\n",
    "Notice how the test of the agent may become erratic in its behaviour once it has deviated from its trained path, this is common with a basic DQN and can be mitigated by further training or by using extensions, such as:\n",
    "- Double DQN\n",
    "- Prioritized Experience Replay\n",
    "- Dueling DQN\n",
    "\n",
    "Alternatively, another implementation to solve the environment can consist of a combination of both convolutional layers and fully-connected layers, over the basic approach of strictly fully-connected layers."
   ]
  },
  {
   "cell_type": "code",
   "execution_count": null,
   "metadata": {},
   "outputs": [],
   "source": []
  }
 ],
 "metadata": {
  "kernelspec": {
   "display_name": "drlnd",
   "language": "python",
   "name": "drlnd"
  },
  "language_info": {
   "codemirror_mode": {
    "name": "ipython",
    "version": 3
   },
   "file_extension": ".py",
   "mimetype": "text/x-python",
   "name": "python",
   "nbconvert_exporter": "python",
   "pygments_lexer": "ipython3",
   "version": "3.6.12"
  }
 },
 "nbformat": 4,
 "nbformat_minor": 2
}
